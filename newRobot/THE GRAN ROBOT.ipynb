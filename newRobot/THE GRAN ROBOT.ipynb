{
 "cells": [
  {
   "cell_type": "markdown",
   "id": "665bf6bd",
   "metadata": {},
   "source": [
    "- Abre a página\n",
    "- Pega os IDS dos docs da página\n",
    "- Joga no array\n",
    "- Abre todos docs do array\n",
    "- Zera o array\n",
    "- repete o processo"
   ]
  },
  {
   "cell_type": "code",
   "execution_count": 5,
   "id": "1341ec11",
   "metadata": {},
   "outputs": [],
   "source": [
    "from selenium import webdriver\n",
    "from selenium.webdriver.common.by import By\n",
    "from selenium.webdriver.common.keys import Keys\n",
    "from bs4 import BeautifulSoup\n",
    "from tqdm import tqdm\n",
    "from selenium.webdriver.support.wait import WebDriverWait\n",
    "import time\n",
    "\n",
    "#options = webdriver.ChromeOptions()\n",
    "#options.add_argument(\"--headless\")\n",
    "#driver = webdriver.Chrome(chrome_options=options)"
   ]
  },
  {
   "cell_type": "code",
   "execution_count": 6,
   "id": "b4ac38fc",
   "metadata": {},
   "outputs": [],
   "source": [
    "# open chromium\n",
    "driver = webdriver.Chrome()\n",
    "driver.get(\"https://fnet.bmfbovespa.com.br/fnet/publico/pesquisarGerenciadorDocumentosCertificadosCVM?paginaCertificados=true&tipoFundo=&administrador=&idCategoriaDocumento=0&idTipoDocumento=0&idEspecieDocumento=0&situacao=&cnpj=&dataReferencia=&dataInicial=01%2F10%2F2019&dataFinal=29%2F10%2F2019&idModalidade=&palavraChave=\")"
   ]
  },
  {
   "cell_type": "code",
   "execution_count": 7,
   "id": "45e36d11",
   "metadata": {},
   "outputs": [],
   "source": [
    "def open_modal():\n",
    "    open_modal = driver.find_element(By.ID, \"showFiltros\")\n",
    "    open_modal.click()\n",
    "\n",
    "def select_document_type():\n",
    "    time.sleep(1)\n",
    "    comunicated_class = driver.find_element(By.ID, \"s2id_autogen1\")\n",
    "    comunicated_class.send_keys(Keys.ENTER)\n",
    "\n",
    "    CRA = driver.find_elements(By.CLASS_NAME, \"select2-results-dept-0.select2-result.select2-result-selectable\")[1]\n",
    "    time.sleep(1)\n",
    "    CRA.click()\n",
    "\n",
    "    category = driver.find_element(By.ID, \"s2id_autogen2\")\n",
    "    category.send_keys(Keys.ENTER)\n",
    "\n",
    "def select_inform_type():\n",
    "    INFORME = driver.find_element(By.ID, \"select2-result-label-39\")\n",
    "    INFORME.click()\n",
    "\n",
    "def clear_data():\n",
    "    data_inf = driver.find_element(By.ID, \"dataFinal\")\n",
    "    data_inf.clear()\n",
    "\n",
    "def filter_opts():\n",
    "    filterBtn = driver.find_element(By.ID, 'filtrar')\n",
    "    filterBtn.click()\n",
    "\n",
    "\n",
    "\n",
    "\n",
    "def add_to_list():\n",
    "    time.sleep(3)\n",
    "    pagina_atual = driver.page_source\n",
    "    soup = BeautifulSoup(pagina_atual, 'html.parser')\n",
    "    infos = soup.find_all('tr')\n",
    "    for all_infos in infos:\n",
    "        try:\n",
    "            info = all_infos.find_all('td')\n",
    "            doc_view = all_infos.find_all('a')\n",
    "            if info[2].text == 'Informe Mensal de CRA':\n",
    "                try:\n",
    "                    id = str(doc_view[0])[32:]\n",
    "                    id = id[:id.find(\"&\")]\n",
    "                    lista.append(id)\n",
    "                except:\n",
    "                    print(f'ERRO {id}')\n",
    "        except:\n",
    "            pass\n",
    "\n",
    "def open_comunicate(id):\n",
    "    driver.get(f\"https://fnet.bmfbovespa.com.br/fnet/publico/visualizarDocumento?id={id}&cvm=true/\")\n",
    "\n",
    "def switch_to_iframe_context():\n",
    "    # Localizar o elemento <iframe>\n",
    "    iframe = driver.find_element(By.TAG_NAME, \"iframe\")\n",
    "\n",
    "    # Mudar para o contexto do iframe\n",
    "    driver.switch_to.frame(iframe)\n",
    "\n",
    "def extract_body_content():\n",
    "    body = driver.find_element(By.TAG_NAME, \"body\")\n",
    "    html = body.get_attribute(\"outerHTML\")\n",
    "    soup = BeautifulSoup(html, \"html.parser\")\n",
    "    return soup\n",
    "\n",
    "#raspagem\n",
    "time.sleep(3)\n",
    "pagina_atual = driver.page_source\n",
    "soup = BeautifulSoup(pagina_atual, 'html.parser')\n",
    "    \n",
    "    \n",
    "lista = []\n",
    "max_screen_exibition = driver.find_element(By.NAME, 'tblDocumentosEnviados_length').find_elements(By.TAG_NAME, 'option')[-1]\n",
    "max_screen_exibition.click()\n",
    "time.sleep(1)\n",
    "pagesQt = soup.find_all('a')\n",
    "pagesQt = int(int(pagesQt[-2].text) / 9.9)"
   ]
  },
  {
   "cell_type": "code",
   "execution_count": 8,
   "id": "625adc6c",
   "metadata": {},
   "outputs": [],
   "source": [
    "open_modal()\n",
    "select_document_type()\n",
    "select_inform_type()\n",
    "clear_data()\n",
    "filter_opts()"
   ]
  },
  {
   "cell_type": "code",
   "execution_count": 9,
   "id": "c5dc4382",
   "metadata": {},
   "outputs": [
    {
     "ename": "NoSuchElementException",
     "evalue": "Message: no such element: Unable to locate element: {\"method\":\"css selector\",\"selector\":\"[id=\"tblDocumentosEnviados_next\"]\"}\n  (Session info: chrome=111.0.5563.149)\nStacktrace:\nBacktrace:\n\t(No symbol) [0x005EDCE3]\n\t(No symbol) [0x005839D1]\n\t(No symbol) [0x00494DA8]\n\t(No symbol) [0x004C019F]\n\t(No symbol) [0x004C03AB]\n\t(No symbol) [0x004EEE62]\n\t(No symbol) [0x004DAF14]\n\t(No symbol) [0x004ED57C]\n\t(No symbol) [0x004DACC6]\n\t(No symbol) [0x004B6F68]\n\t(No symbol) [0x004B80CD]\n\tGetHandleVerifier [0x00863832+2506274]\n\tGetHandleVerifier [0x00899794+2727300]\n\tGetHandleVerifier [0x0089E36C+2746716]\n\tGetHandleVerifier [0x00696690+617600]\n\t(No symbol) [0x0058C712]\n\t(No symbol) [0x00591FF8]\n\t(No symbol) [0x005920DB]\n\t(No symbol) [0x0059C63B]\n\tBaseThreadInitThunk [0x76E47D49+25]\n\tRtlInitializeExceptionChain [0x77BFB74B+107]\n\tRtlClearBits [0x77BFB6CF+191]\n",
     "output_type": "error",
     "traceback": [
      "\u001b[1;31m---------------------------------------------------------------------------\u001b[0m",
      "\u001b[1;31mNoSuchElementException\u001b[0m                    Traceback (most recent call last)",
      "\u001b[1;32m~\\AppData\\Local\\Temp\\ipykernel_36340\\1501308184.py\u001b[0m in \u001b[0;36m<module>\u001b[1;34m\u001b[0m\n\u001b[0;32m     29\u001b[0m                 \u001b[0mcodsifs\u001b[0m\u001b[1;33m.\u001b[0m\u001b[0mappend\u001b[0m\u001b[1;33m(\u001b[0m\u001b[0mcod_if\u001b[0m\u001b[1;33m)\u001b[0m\u001b[1;33m\u001b[0m\u001b[1;33m\u001b[0m\u001b[0m\n\u001b[0;32m     30\u001b[0m                 \u001b[0misins\u001b[0m\u001b[1;33m.\u001b[0m\u001b[0mappend\u001b[0m\u001b[1;33m(\u001b[0m\u001b[0misin\u001b[0m\u001b[1;33m)\u001b[0m\u001b[1;33m\u001b[0m\u001b[1;33m\u001b[0m\u001b[0m\n\u001b[1;32m---> 31\u001b[1;33m     \u001b[0mdriver\u001b[0m\u001b[1;33m.\u001b[0m\u001b[0mfind_element\u001b[0m\u001b[1;33m(\u001b[0m\u001b[0mBy\u001b[0m\u001b[1;33m.\u001b[0m\u001b[0mID\u001b[0m\u001b[1;33m,\u001b[0m \u001b[1;34m'tblDocumentosEnviados_next'\u001b[0m\u001b[1;33m)\u001b[0m\u001b[1;33m.\u001b[0m\u001b[0mclick\u001b[0m\u001b[1;33m(\u001b[0m\u001b[1;33m)\u001b[0m\u001b[1;33m\u001b[0m\u001b[1;33m\u001b[0m\u001b[0m\n\u001b[0m\u001b[0;32m     32\u001b[0m     \u001b[0mprint\u001b[0m\u001b[1;33m(\u001b[0m\u001b[0mlen\u001b[0m\u001b[1;33m(\u001b[0m\u001b[0mlista\u001b[0m\u001b[1;33m)\u001b[0m\u001b[1;33m)\u001b[0m\u001b[1;33m\u001b[0m\u001b[1;33m\u001b[0m\u001b[0m\n\u001b[0;32m     33\u001b[0m     \u001b[0mprint\u001b[0m\u001b[1;33m(\u001b[0m\u001b[0mlen\u001b[0m\u001b[1;33m(\u001b[0m\u001b[0mclasses\u001b[0m\u001b[1;33m)\u001b[0m\u001b[1;33m)\u001b[0m\u001b[1;33m\u001b[0m\u001b[1;33m\u001b[0m\u001b[0m\n",
      "\u001b[1;32m~\\anaconda3\\lib\\site-packages\\selenium\\webdriver\\remote\\webdriver.py\u001b[0m in \u001b[0;36mfind_element\u001b[1;34m(self, by, value)\u001b[0m\n\u001b[0;32m    829\u001b[0m             \u001b[0mvalue\u001b[0m \u001b[1;33m=\u001b[0m \u001b[1;34mf'[name=\"{value}\"]'\u001b[0m\u001b[1;33m\u001b[0m\u001b[1;33m\u001b[0m\u001b[0m\n\u001b[0;32m    830\u001b[0m \u001b[1;33m\u001b[0m\u001b[0m\n\u001b[1;32m--> 831\u001b[1;33m         \u001b[1;32mreturn\u001b[0m \u001b[0mself\u001b[0m\u001b[1;33m.\u001b[0m\u001b[0mexecute\u001b[0m\u001b[1;33m(\u001b[0m\u001b[0mCommand\u001b[0m\u001b[1;33m.\u001b[0m\u001b[0mFIND_ELEMENT\u001b[0m\u001b[1;33m,\u001b[0m \u001b[1;33m{\u001b[0m\u001b[1;34m\"using\"\u001b[0m\u001b[1;33m:\u001b[0m \u001b[0mby\u001b[0m\u001b[1;33m,\u001b[0m \u001b[1;34m\"value\"\u001b[0m\u001b[1;33m:\u001b[0m \u001b[0mvalue\u001b[0m\u001b[1;33m}\u001b[0m\u001b[1;33m)\u001b[0m\u001b[1;33m[\u001b[0m\u001b[1;34m\"value\"\u001b[0m\u001b[1;33m]\u001b[0m\u001b[1;33m\u001b[0m\u001b[1;33m\u001b[0m\u001b[0m\n\u001b[0m\u001b[0;32m    832\u001b[0m \u001b[1;33m\u001b[0m\u001b[0m\n\u001b[0;32m    833\u001b[0m     \u001b[1;32mdef\u001b[0m \u001b[0mfind_elements\u001b[0m\u001b[1;33m(\u001b[0m\u001b[0mself\u001b[0m\u001b[1;33m,\u001b[0m \u001b[0mby\u001b[0m\u001b[1;33m=\u001b[0m\u001b[0mBy\u001b[0m\u001b[1;33m.\u001b[0m\u001b[0mID\u001b[0m\u001b[1;33m,\u001b[0m \u001b[0mvalue\u001b[0m\u001b[1;33m:\u001b[0m \u001b[0mOptional\u001b[0m\u001b[1;33m[\u001b[0m\u001b[0mstr\u001b[0m\u001b[1;33m]\u001b[0m \u001b[1;33m=\u001b[0m \u001b[1;32mNone\u001b[0m\u001b[1;33m)\u001b[0m \u001b[1;33m->\u001b[0m \u001b[0mList\u001b[0m\u001b[1;33m[\u001b[0m\u001b[0mWebElement\u001b[0m\u001b[1;33m]\u001b[0m\u001b[1;33m:\u001b[0m\u001b[1;33m\u001b[0m\u001b[1;33m\u001b[0m\u001b[0m\n",
      "\u001b[1;32m~\\anaconda3\\lib\\site-packages\\selenium\\webdriver\\remote\\webdriver.py\u001b[0m in \u001b[0;36mexecute\u001b[1;34m(self, driver_command, params)\u001b[0m\n\u001b[0;32m    438\u001b[0m         \u001b[0mresponse\u001b[0m \u001b[1;33m=\u001b[0m \u001b[0mself\u001b[0m\u001b[1;33m.\u001b[0m\u001b[0mcommand_executor\u001b[0m\u001b[1;33m.\u001b[0m\u001b[0mexecute\u001b[0m\u001b[1;33m(\u001b[0m\u001b[0mdriver_command\u001b[0m\u001b[1;33m,\u001b[0m \u001b[0mparams\u001b[0m\u001b[1;33m)\u001b[0m\u001b[1;33m\u001b[0m\u001b[1;33m\u001b[0m\u001b[0m\n\u001b[0;32m    439\u001b[0m         \u001b[1;32mif\u001b[0m \u001b[0mresponse\u001b[0m\u001b[1;33m:\u001b[0m\u001b[1;33m\u001b[0m\u001b[1;33m\u001b[0m\u001b[0m\n\u001b[1;32m--> 440\u001b[1;33m             \u001b[0mself\u001b[0m\u001b[1;33m.\u001b[0m\u001b[0merror_handler\u001b[0m\u001b[1;33m.\u001b[0m\u001b[0mcheck_response\u001b[0m\u001b[1;33m(\u001b[0m\u001b[0mresponse\u001b[0m\u001b[1;33m)\u001b[0m\u001b[1;33m\u001b[0m\u001b[1;33m\u001b[0m\u001b[0m\n\u001b[0m\u001b[0;32m    441\u001b[0m             \u001b[0mresponse\u001b[0m\u001b[1;33m[\u001b[0m\u001b[1;34m\"value\"\u001b[0m\u001b[1;33m]\u001b[0m \u001b[1;33m=\u001b[0m \u001b[0mself\u001b[0m\u001b[1;33m.\u001b[0m\u001b[0m_unwrap_value\u001b[0m\u001b[1;33m(\u001b[0m\u001b[0mresponse\u001b[0m\u001b[1;33m.\u001b[0m\u001b[0mget\u001b[0m\u001b[1;33m(\u001b[0m\u001b[1;34m\"value\"\u001b[0m\u001b[1;33m,\u001b[0m \u001b[1;32mNone\u001b[0m\u001b[1;33m)\u001b[0m\u001b[1;33m)\u001b[0m\u001b[1;33m\u001b[0m\u001b[1;33m\u001b[0m\u001b[0m\n\u001b[0;32m    442\u001b[0m             \u001b[1;32mreturn\u001b[0m \u001b[0mresponse\u001b[0m\u001b[1;33m\u001b[0m\u001b[1;33m\u001b[0m\u001b[0m\n",
      "\u001b[1;32m~\\anaconda3\\lib\\site-packages\\selenium\\webdriver\\remote\\errorhandler.py\u001b[0m in \u001b[0;36mcheck_response\u001b[1;34m(self, response)\u001b[0m\n\u001b[0;32m    243\u001b[0m                 \u001b[0malert_text\u001b[0m \u001b[1;33m=\u001b[0m \u001b[0mvalue\u001b[0m\u001b[1;33m[\u001b[0m\u001b[1;34m\"alert\"\u001b[0m\u001b[1;33m]\u001b[0m\u001b[1;33m.\u001b[0m\u001b[0mget\u001b[0m\u001b[1;33m(\u001b[0m\u001b[1;34m\"text\"\u001b[0m\u001b[1;33m)\u001b[0m\u001b[1;33m\u001b[0m\u001b[1;33m\u001b[0m\u001b[0m\n\u001b[0;32m    244\u001b[0m             \u001b[1;32mraise\u001b[0m \u001b[0mexception_class\u001b[0m\u001b[1;33m(\u001b[0m\u001b[0mmessage\u001b[0m\u001b[1;33m,\u001b[0m \u001b[0mscreen\u001b[0m\u001b[1;33m,\u001b[0m \u001b[0mstacktrace\u001b[0m\u001b[1;33m,\u001b[0m \u001b[0malert_text\u001b[0m\u001b[1;33m)\u001b[0m  \u001b[1;31m# type: ignore[call-arg]  # mypy is not smart enough here\u001b[0m\u001b[1;33m\u001b[0m\u001b[1;33m\u001b[0m\u001b[0m\n\u001b[1;32m--> 245\u001b[1;33m         \u001b[1;32mraise\u001b[0m \u001b[0mexception_class\u001b[0m\u001b[1;33m(\u001b[0m\u001b[0mmessage\u001b[0m\u001b[1;33m,\u001b[0m \u001b[0mscreen\u001b[0m\u001b[1;33m,\u001b[0m \u001b[0mstacktrace\u001b[0m\u001b[1;33m)\u001b[0m\u001b[1;33m\u001b[0m\u001b[1;33m\u001b[0m\u001b[0m\n\u001b[0m",
      "\u001b[1;31mNoSuchElementException\u001b[0m: Message: no such element: Unable to locate element: {\"method\":\"css selector\",\"selector\":\"[id=\"tblDocumentosEnviados_next\"]\"}\n  (Session info: chrome=111.0.5563.149)\nStacktrace:\nBacktrace:\n\t(No symbol) [0x005EDCE3]\n\t(No symbol) [0x005839D1]\n\t(No symbol) [0x00494DA8]\n\t(No symbol) [0x004C019F]\n\t(No symbol) [0x004C03AB]\n\t(No symbol) [0x004EEE62]\n\t(No symbol) [0x004DAF14]\n\t(No symbol) [0x004ED57C]\n\t(No symbol) [0x004DACC6]\n\t(No symbol) [0x004B6F68]\n\t(No symbol) [0x004B80CD]\n\tGetHandleVerifier [0x00863832+2506274]\n\tGetHandleVerifier [0x00899794+2727300]\n\tGetHandleVerifier [0x0089E36C+2746716]\n\tGetHandleVerifier [0x00696690+617600]\n\t(No symbol) [0x0058C712]\n\t(No symbol) [0x00591FF8]\n\t(No symbol) [0x005920DB]\n\t(No symbol) [0x0059C63B]\n\tBaseThreadInitThunk [0x76E47D49+25]\n\tRtlInitializeExceptionChain [0x77BFB74B+107]\n\tRtlClearBits [0x77BFB6CF+191]\n"
     ]
    }
   ],
   "source": [
    "classes = []\n",
    "codsifs = []\n",
    "isins = []\n",
    "\n",
    "for i in range(0, pagesQt, 1):\n",
    "    add_to_list()\n",
    "    for id_do_comunicado in lista:\n",
    "        # Navegar para a página principal\n",
    "        open_comunicate(id_do_comunicado)\n",
    "\n",
    "        switch_to_iframe_context()\n",
    "\n",
    "        # Extrair o conteúdo do elemento <body>\n",
    "        soup = extract_body_content()\n",
    "        try:\n",
    "            tr = soup.find_all('table')[2].find_all('tr')\n",
    "        except:\n",
    "            try:\n",
    "                tr = soup.find_all('table')[2].find_all('tr')\n",
    "            except:\n",
    "                print(id_do_comunicado)\n",
    "        for i in tr:\n",
    "            if not i.has_attr('class') or 'gray' not in i['class']:\n",
    "                linha = i.find_all('td')\n",
    "                classe = linha[0].text\n",
    "                cod_if = linha[3].text\n",
    "                isin = linha[4].text\n",
    "                classes.append(classe)\n",
    "                codsifs.append(cod_if)\n",
    "                isins.append(isin)\n",
    "    driver.find_element(By.ID, 'tblDocumentosEnviados_next').click()\n",
    "    print(len(lista))\n",
    "    print(len(classes))\n",
    "    print(len(codsifs))\n",
    "    print(len(isins))\n",
    "    lista = []"
   ]
  },
  {
   "cell_type": "code",
   "execution_count": 11,
   "id": "1faae352",
   "metadata": {},
   "outputs": [
    {
     "name": "stdout",
     "output_type": "stream",
     "text": [
      "['444730', '444534', '444050', '443668', '443618', '443591', '443379', '443353', '443283', '442460', '442450', '442402', '442379', '442377', '442375', '442371', '442366', '442362', '442358', '442355', '442353', '442352', '442351', '442350', '442349', '442348', '442347', '442346', '442345', '442343', '442340', '442338', '442334', '442331', '442327', '442317', '442316', '442315', '442314', '442313', '442312', '442311', '442310', '442309', '442308', '442307', '442306', '442305', '442304', '442303', '442302', '442301', '442300', '442299', '442298', '442297', '442296', '442295', '441975', '441974', '441973', '441972', '441971', '441970', '441969', '441968', '441967', '441966', '441965', '441964', '441963', '441962', '441961', '441960', '440935', '440934', '440933', '440932', '440931', '440927', '440925', '440923', '440922', '440921', '440920']\n",
      "['Sênior', 'Mezanino', 'Subordinada', 'Sênior', 'Sênior', 'Sênior', 'Sênior', 'Sênior', 'Sênior', 'Sênior', 'Sênior', 'Sênior', 'Mezanino', 'Mezanino', 'Subordinada', 'Sênior', 'Sênior', 'Sênior', 'Sênior', 'Mezanino', 'Mezanino', 'Subordinada', 'Sênior', 'Sênior', 'Sênior', 'Sênior', 'Sênior', 'Sênior', 'Sênior', 'Sênior', 'Sênior', 'Sênior', 'Sênior', 'Sênior', 'Sênior', 'Sênior', 'Sênior', 'Sênior', 'Sênior', 'Sênior', 'Sênior', 'Subordinada', 'Subordinada', 'Sênior', 'Sênior', 'Sênior', 'Sênior', 'Sênior', 'Sênior', 'Sênior', 'Sênior', 'Sênior', 'Sênior', 'Sênior', 'Sênior', 'Subordinada', 'Sênior', 'Sênior', 'Sênior', 'Sênior', 'Sênior', 'Sênior', 'Sênior', 'Sênior', 'Sênior', 'Sênior', 'Sênior', 'Sênior', 'Sênior', 'Sênior', 'Sênior', 'Sênior', 'Sênior', 'Sênior', 'Sênior', 'Sênior', 'Sênior', 'Sênior', 'Sênior', 'Sênior', 'Sênior', 'Sênior', 'Sênior', 'Sênior', 'Sênior', 'Sênior', 'Sênior', 'Sênior', 'Sênior', 'Sênior', 'Sênior', 'Sênior', 'Sênior', 'Sênior', 'Sênior', 'Sênior', 'Sênior', 'Sênior', 'Sênior', 'Sênior', 'Sênior', 'Sênior', 'Sênior', 'Sênior', 'Sênior', 'Sênior', 'Sênior', 'Sênior', 'Sênior', 'Sênior', 'Sênior', 'Sênior', 'Sênior', 'Sênior', 'Sênior', 'Sênior', 'Sênior', 'Sênior', 'Sênior', 'Subordinada', 'Subordinada', 'Sênior', 'Sênior', 'Sênior', 'Sênior', 'Sênior', 'Sênior', 'Sênior', 'Sênior', 'Sênior', 'Sênior']\n",
      "['CRA02200DFD', 'CRA02200DFE', 'CRA02200DFF', 'CRA0150000M', 'CRA02200D9T', 'CRA0220020C', 'CRA021004NL', 'CRA021004NQ', 'CRA021002N7', 'CRA02000001', 'CRA02000002', 'CRA019007Q8', 'CRA019007Q9', 'CRA019007VS', 'CRA019007VT', 'CRA022006N8', 'CRA022002BE', 'CRA022004BM', 'CRA02200E79', 'CRA02200E7A', 'CRA02200E7B', 'CRA02200E7C', 'CRA021005KX', 'CRA021005KY', 'CRA021005L0', 'CRA021005L1', 'CRA021005L2', 'CRA021005LH', 'CRA02200DKZ ', 'CRA02200DQM', 'CRA02200EIA', 'CRA02200DQI', 'CRA02200F4H', 'CRA02200CYR', 'CRA02200CYS', 'CRA02200D4D', 'CRA02200CNN ', 'CRA02200AHU', 'CRA02200ANF', 'CRA022007KK', 'CRA02200810', 'CRA02200811', 'CRA02200812', 'CRA022007VH', 'CRA022007PV', 'CRA022007PU', 'CRA022007VF', 'CRA022007KL', 'CRA022007KM', 'CRA022007KF', 'CRA022005K2', 'CRA022005K1', 'CRA0220040H', 'CRA02200669', 'CRA0220066B', 'CRA0220066A', 'CRA0220033C', 'CRA02200338', 'CRA0220033A', 'CRA0220033B', 'CRA022004H5', 'CRA0220033F', 'CRA0220033G', 'CRA02200337', 'CRA02200336', 'CRA022003E9', 'CRA0220020B', 'CRA022002XU', 'CRA02200335', 'CRA022002GZ', 'CRA022002XP', 'CRA022002XR', 'CRA022002BD', 'CRA0220025T', 'CRA021005LZ', 'CRA021005M0', 'CRA021005LO', 'CRA021005LP', 'CRA021005LQ', 'CRA021005LY', 'CRA021001PQ', 'CRA021001VA', 'CRA021001EM', 'CRA021002YB', 'CRA020003KA', 'CRA020003KB', 'CRA020003KA', 'CRA020003KB', 'CRA0190081C', 'CRA019005KG', 'CRA019005K9', 'CRA019005KC', 'CRA019005K9', 'CRA019005KC', 'CRA019004SH', 'CRA019000GS', 'CRA019000GT', 'CRA019000GS', 'CRA019000GT', 'CRA017006HF', 'CRA017001P5', 'CRA017001P6', 'CRA017001P5', 'CRA017001P6', 'CRA0160000P', 'CRA0160000V', 'CRA0160000P', 'CRA0160000V', 'CRA018003UX', 'CRA018001E1', 'CRA017008SR', 'CRA017008SS', 'CRA017008SR', 'CRA017008SS', 'CRA02200AHU', 'CRA02200ANF', 'CRA022007KK', 'CRA019005KG', 'CRA02200810', 'CRA02200811', 'CRA02200812', 'CRA022007VH', 'CRA022007PV', 'CRA022007PU', 'CRA019005K9', 'CRA019005KC', 'CRA019005K9', 'CRA019005KC', 'CRA022007VF', 'CRA022007KL', 'CRA022007KM']\n",
      "['BROCTSCRA3G2', 'BROCTSCRA3G2', 'BROCTSCRA3G2', 'BRBSCSCRA001', 'BROCTSCRA3G2', 'BROCTSCRA3C1', 'BROCTSCRA3A5', 'BROCTSCRA3B3', 'BROCTSCRA374', 'BROCTSCRA2W1', '-', 'BROCTSCRA2Y7', 'BROCTSCRA2Z4', 'BROCTSCRA309', 'BROCTSCRA317', 'BRGAIACRA1A4', 'BRRBRACRA1E1', 'BRRBRACRA1V5', 'CRA02200E79', 'CRA02200E7A', 'CRA02200E7B', 'CRA02200E7C', 'BRRBRACRA140', 'BRRBRACRA157', 'BRRBRACRA165', 'BRRBRACRA173', 'BRRBRACRA181', 'BRRBRACRA199', 'BRRBRACRA2O8 ', 'BRRBRACRA2N0', 'BRRBRACRA2Q3', 'BRRBRACRA2M2', 'BRRBRACRA2P5', 'CRA02200CYR', 'BRRBRACRA2L4', 'BRRBRACRA2K6', 'BRRBRACRA2I0', 'BRRBRACRA2E9', 'BRRBRACRA2F6', 'BRRBRACRA2J8 ', 'BRRBRACRA256', 'BRRBRACRA264', 'BRRBRACRA272', 'BRRBRACRA280', 'BRRBRACRA2B5', 'BRRBRACRA2A7', 'BRRBRACRA2C3', 'BRRBRACRA231', 'BRRBRACRA249', 'BRRBRACRA298', 'BRRBRACRA1Y9', 'BRRBRACRA1X1', 'BRRBRACRA1U7 ', 'BRRBRACRA1Z6', 'BRRBRACRA207', 'BRRBRACRA215', 'BRRBRACRA1S1', 'BRRBRACRA1R3', 'BRRBRACRA1M4', 'BRRBRACRA1N2', 'BRRBRACRA1W3', 'BRRBRACRA1K8', 'BRRBRACRA1L6', 'BRRBRACRA1Q5', 'BRRBRACRA1P7', 'BRRBRACRA1T9', 'BRRBRACRA1C5', 'BRRBRACRA1H4', 'BRRBRACRA1O0', 'BRRBRACRA1G6', 'BRRBRACRA1I2', 'BRRBRACRA1J0', 'BRRBRACRA1F8', 'BRRBRACRA1D3', 'BRRBRACRA1A9', 'BRRBRACRA1B7', 'BRRBRACRA108', 'BRRBRACRA116', 'BRRBRACRA124', 'BRRBRACRA132', 'BRRBRACRA0V7', 'BRRBRACRA0W5', 'BRRBRACRA0X3', 'BRRBRACRA0Z8', 'BRRBRACRA0R5', 'BRRBRACRA0S3', 'BRRBRACRA0R5', 'BRRBRACRA0S3', 'BRRBRACRA0O2', 'BRRBRACRA0K0', 'BRRBRACRA0L8', 'BRRBRACRA0M6', 'BRRBRACRA0L8', 'BRRBRACRA0M6', 'BRRBRACRA0H6', 'BRRBRACRA0E3', 'BRRBRACRA0F0', 'BRRBRACRA0E3', 'BRRBRACRA0F0', 'BRRBRACRA074', 'BRRBRACRA058', 'BRRBRACRA066', 'BRRBRACRA058', 'BRRBRACRA066', 'BRRBRACRA025', 'BRRBRACRA033', 'BRRBRACRA025', 'BRRBRACRA033', 'BRRBRACRA0D5', 'BRRBRACRA0C7', 'BRRBRACRA0A1', 'BRRBRACRA0B9', 'BRRBRACRA0A1', 'BRRBRACRA0B9', 'BRRBRACRA2E9', 'BRRBRACRA2F6', 'BRRBRACRA2J8 ', 'BRRBRACRA0K0', 'BRRBRACRA256', 'BRRBRACRA264', 'BRRBRACRA272', 'BRRBRACRA280', 'BRRBRACRA2B5', 'BRRBRACRA2A7', 'BRRBRACRA0L8', 'BRRBRACRA0M6', 'BRRBRACRA0L8', 'BRRBRACRA0M6', 'BRRBRACRA2C3', 'BRRBRACRA231', 'BRRBRACRA249']\n"
     ]
    }
   ],
   "source": [
    "    print(lista)\n",
    "    print(classes)\n",
    "    print(codsifs)\n",
    "    print(isins)\n",
    "    "
   ]
  }
 ],
 "metadata": {
  "kernelspec": {
   "display_name": "Python 3 (ipykernel)",
   "language": "python",
   "name": "python3"
  },
  "language_info": {
   "codemirror_mode": {
    "name": "ipython",
    "version": 3
   },
   "file_extension": ".py",
   "mimetype": "text/x-python",
   "name": "python",
   "nbconvert_exporter": "python",
   "pygments_lexer": "ipython3",
   "version": "3.9.13"
  }
 },
 "nbformat": 4,
 "nbformat_minor": 5
}
